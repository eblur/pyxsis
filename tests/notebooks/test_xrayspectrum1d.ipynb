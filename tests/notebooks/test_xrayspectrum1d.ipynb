{
 "cells": [
  {
   "cell_type": "code",
   "execution_count": null,
   "metadata": {},
   "outputs": [],
   "source": [
    "import numpy as np\n",
    "import matplotlib.pyplot as plt\n",
    "\n",
    "%matplotlib inline"
   ]
  },
  {
   "cell_type": "code",
   "execution_count": null,
   "metadata": {},
   "outputs": [],
   "source": [
    "from specutils import XraySpectrum1D, ARF, RMF"
   ]
  },
  {
   "cell_type": "code",
   "execution_count": null,
   "metadata": {},
   "outputs": [],
   "source": [
    "from astropy.modeling.powerlaws import PowerLaw1D\n",
    "import astropy.units as u\n",
    "from astropy.io import fits"
   ]
  },
  {
   "cell_type": "code",
   "execution_count": null,
   "metadata": {},
   "outputs": [],
   "source": [
    "def test_create_from_arrays():\n",
    "    # Test that XraySpectrum1D can be initialized\n",
    "    amp0, alpha0 = 3.e-3, 2.0\n",
    "    powlaw0 = PowerLaw1D(amplitude=amp0, alpha=alpha0, x_0=1.e3)\n",
    "    energy = np.linspace(0.2, 10.0, 8000)\n",
    "    elo = energy[:-1] * u.keV\n",
    "    ehi = energy[1:] * u.keV\n",
    "    emid = 0.5 * (elo + ehi)\n",
    "    counts = np.random.poisson(lam=powlaw0(emid.value), size=len(emid)) * u.ct\n",
    "    test_spec = XraySpectrum1D(elo, ehi, counts, exposure=1.0*u.second)\n",
    "    return test_spec"
   ]
  },
  {
   "cell_type": "code",
   "execution_count": null,
   "metadata": {},
   "outputs": [],
   "source": [
    "ts = test_create_from_arrays()"
   ]
  },
  {
   "cell_type": "markdown",
   "metadata": {},
   "source": [
    "## Try loading some example data"
   ]
  },
  {
   "cell_type": "code",
   "execution_count": null,
   "metadata": {},
   "outputs": [],
   "source": [
    "ANGS = ['angstrom', 'Angstrom', 'angs', 'Angs', 'A']\n",
    "KEV = ['keV', 'kev']\n",
    "\n",
    "def load_hetg(filename, arf=None, rmf=None):\n",
    "    ff   = fits.open(filename)\n",
    "    data = ff[1].data\n",
    "\n",
    "    bin_unit = u.Unit(data.columns['BIN_LO'].unit)\n",
    "    bin_lo   = data['BIN_LO'] * bin_unit\n",
    "    bin_hi   = data['BIN_HI'] * bin_unit\n",
    "    \n",
    "    counts   = data['COUNTS'] * u.ct\n",
    "    exposure = ff[1].header['EXPOSURE'] * u.second\n",
    "    ff.close()\n",
    "    result = XraySpectrum1D(bin_lo, bin_hi, counts, exposure=exposure,\n",
    "                            arf=arf, rmf=rmf)\n",
    "    return result"
   ]
  },
  {
   "cell_type": "code",
   "execution_count": null,
   "metadata": {},
   "outputs": [],
   "source": [
    "heg_arf = ARF.read('17392/heg_-1.arf', block='SPECRESP')"
   ]
  },
  {
   "cell_type": "code",
   "execution_count": null,
   "metadata": {},
   "outputs": [],
   "source": [
    "heg_rmf = RMF.read('17392/heg_-1.rmf')"
   ]
  },
  {
   "cell_type": "code",
   "execution_count": null,
   "metadata": {},
   "outputs": [],
   "source": [
    "chandra = load_hetg('17392/heg_-1.pha', arf=heg_arf, rmf=heg_rmf)"
   ]
  },
  {
   "cell_type": "code",
   "execution_count": null,
   "metadata": {},
   "outputs": [],
   "source": [
    "def test_apply_model(test_spec):\n",
    "    # Test that one can evaluate XraySpectrum1D with a model\n",
    "    new_model = PowerLaw1D(amplitude=3.e-5, alpha=0.0, x_0=1.e3)\n",
    "    model_flux = new_model(test_spec.spectral_axis.value) / (u.cm**2 * u.second)\n",
    "    ymodel = test_spec.apply_response(model_flux)\n",
    "    assert len(ymodel) == len(test_spec.spectral_axis)\n",
    "    return ymodel"
   ]
  },
  {
   "cell_type": "code",
   "execution_count": null,
   "metadata": {},
   "outputs": [],
   "source": [
    "test_model = test_apply_model(chandra)"
   ]
  },
  {
   "cell_type": "code",
   "execution_count": null,
   "metadata": {},
   "outputs": [],
   "source": [
    "plt.plot(chandra.spectral_axis, chandra.counts)\n",
    "plt.plot(chandra.spectral_axis, test_model, 'r')\n",
    "plt.xlabel(chandra.spectral_axis.unit)\n",
    "plt.ylabel(chandra.flux.unit)"
   ]
  },
  {
   "cell_type": "markdown",
   "metadata": {},
   "source": [
    "## Try the loader"
   ]
  },
  {
   "cell_type": "code",
   "execution_count": null,
   "metadata": {},
   "outputs": [],
   "source": [
    "chandra2 = XraySpectrum1D.read('17392/heg_-1.pha', format='chandra_hetg', \n",
    "                               arf='17392/heg_-1.arf', rmf='17392/heg_-1.rmf')"
   ]
  },
  {
   "cell_type": "code",
   "execution_count": null,
   "metadata": {},
   "outputs": [],
   "source": [
    "plt.plot(chandra2.spectral_axis, chandra2.counts)\n",
    "plt.plot(chandra2.spectral_axis, test_model, 'r')\n",
    "plt.xlabel(chandra2.spectral_axis.unit)\n",
    "plt.ylabel(chandra2.flux.unit)"
   ]
  },
  {
   "cell_type": "code",
   "execution_count": null,
   "metadata": {},
   "outputs": [],
   "source": []
  }
 ],
 "metadata": {
  "kernelspec": {
   "display_name": "pyxsis-dev",
   "language": "python",
   "name": "pyxsis-dev"
  },
  "language_info": {
   "codemirror_mode": {
    "name": "ipython",
    "version": 3
   },
   "file_extension": ".py",
   "mimetype": "text/x-python",
   "name": "python",
   "nbconvert_exporter": "python",
   "pygments_lexer": "ipython3",
   "version": "3.6.7"
  }
 },
 "nbformat": 4,
 "nbformat_minor": 2
}
