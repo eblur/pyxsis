{
 "cells": [
  {
   "cell_type": "code",
   "execution_count": null,
   "metadata": {},
   "outputs": [],
   "source": [
    "import numpy as np\n",
    "import matplotlib.pyplot as plt\n",
    "\n",
    "%matplotlib inline"
   ]
  },
  {
   "cell_type": "code",
   "execution_count": null,
   "metadata": {},
   "outputs": [],
   "source": [
    "from specutils import XraySpectrum1D, AreaResponse, ResponseMatrix"
   ]
  },
  {
   "cell_type": "code",
   "execution_count": null,
   "metadata": {},
   "outputs": [],
   "source": [
    "from astropy.modeling.powerlaws import PowerLaw1D\n",
    "import astropy.units as u\n",
    "from astropy.io import fits"
   ]
  },
  {
   "cell_type": "markdown",
   "metadata": {},
   "source": [
    "## Try loading some example data"
   ]
  },
  {
   "cell_type": "code",
   "execution_count": null,
   "metadata": {},
   "outputs": [],
   "source": [
    "heg_arf = AreaResponse.read('../data/17392/heg_-1.arf', block='SPECRESP')"
   ]
  },
  {
   "cell_type": "code",
   "execution_count": null,
   "metadata": {},
   "outputs": [],
   "source": [
    "heg_rmf = ResponseMatrix.read('../data/17392/heg_-1.rmf')"
   ]
  },
  {
   "cell_type": "code",
   "execution_count": null,
   "metadata": {},
   "outputs": [],
   "source": [
    "chandra = XraySpectrum1D.read('../data/17392/heg_-1.pha', format='chandra_hetg',\n",
    "                              arf=heg_arf, rmf=heg_rmf)"
   ]
  },
  {
   "cell_type": "code",
   "execution_count": null,
   "metadata": {},
   "outputs": [],
   "source": [
    "def test_apply_model(test_spec):\n",
    "    # Test that one can evaluate XraySpectrum1D with a model\n",
    "    new_model = PowerLaw1D(amplitude=3.e-5, alpha=0.0, x_0=1.e3)\n",
    "    model_flux = new_model(test_spec.spectral_axis.value) / (u.cm**2 * u.second)\n",
    "    ymodel = test_spec.apply_response(model_flux)\n",
    "    assert len(ymodel) == len(test_spec.spectral_axis)\n",
    "    return ymodel"
   ]
  },
  {
   "cell_type": "code",
   "execution_count": null,
   "metadata": {},
   "outputs": [],
   "source": [
    "test_model = test_apply_model(chandra)"
   ]
  },
  {
   "cell_type": "code",
   "execution_count": null,
   "metadata": {},
   "outputs": [],
   "source": [
    "plt.plot(chandra.spectral_axis, chandra.counts)\n",
    "plt.plot(chandra.spectral_axis, test_model, 'r')\n",
    "plt.xlabel(chandra.spectral_axis.unit)\n",
    "plt.ylabel(chandra.flux.unit)"
   ]
  },
  {
   "cell_type": "code",
   "execution_count": null,
   "metadata": {},
   "outputs": [],
   "source": []
  }
 ],
 "metadata": {
  "kernelspec": {
   "display_name": "pyxsis-dev",
   "language": "python",
   "name": "pyxsis-dev"
  },
  "language_info": {
   "codemirror_mode": {
    "name": "ipython",
    "version": 3
   },
   "file_extension": ".py",
   "mimetype": "text/x-python",
   "name": "python",
   "nbconvert_exporter": "python",
   "pygments_lexer": "ipython3",
   "version": "3.6.7"
  }
 },
 "nbformat": 4,
 "nbformat_minor": 2
}
