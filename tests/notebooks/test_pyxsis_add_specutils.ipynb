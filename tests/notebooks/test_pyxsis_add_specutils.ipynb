{
 "cells": [
  {
   "cell_type": "code",
   "execution_count": null,
   "metadata": {},
   "outputs": [],
   "source": [
    "import numpy as np\n",
    "import matplotlib.pyplot as plt\n",
    "\n",
    "%matplotlib inline"
   ]
  },
  {
   "cell_type": "code",
   "execution_count": null,
   "metadata": {},
   "outputs": [],
   "source": [
    "import astropy.units as u\n",
    "from pyxsis import XBinSpectrum, XBkgSpectrum\n",
    "import pyxsis"
   ]
  },
  {
   "cell_type": "code",
   "execution_count": null,
   "metadata": {},
   "outputs": [],
   "source": [
    "heg_arf = '../data/17392/heg_-1.arf'\n",
    "heg_rmf = '../data/17392/heg_-1.rmf'\n",
    "heg_m1 = XBinSpectrum(from_file='../data/17392/heg_-1.pha', arf=heg_arf, rmf=heg_rmf)"
   ]
  },
  {
   "cell_type": "code",
   "execution_count": null,
   "metadata": {},
   "outputs": [],
   "source": [
    "plt.plot(heg_m1.spectral_axis.to(u.keV, equivalencies=u.spectral()), heg_m1.counts)\n",
    "#plt.xlabel(heg_m1.spectral_axis_unit)\n",
    "plt.xlabel('keV')"
   ]
  },
  {
   "cell_type": "markdown",
   "metadata": {},
   "source": [
    "## Test out the notice function"
   ]
  },
  {
   "cell_type": "code",
   "execution_count": null,
   "metadata": {},
   "outputs": [],
   "source": [
    "emin, emax = 1.0 * u.keV, 8.0 * u.keV\n",
    "heg_m1.notice_range(emin, emax)"
   ]
  },
  {
   "cell_type": "code",
   "execution_count": null,
   "metadata": {},
   "outputs": [],
   "source": [
    "plt.plot(heg_m1.spectral_axis[heg_m1.notice], heg_m1.counts[heg_m1.notice])"
   ]
  },
  {
   "cell_type": "markdown",
   "metadata": {},
   "source": [
    "### Test out binning (and plotting functions at the same time)"
   ]
  },
  {
   "cell_type": "code",
   "execution_count": null,
   "metadata": {},
   "outputs": [],
   "source": [
    "pyxsis.group_channels(heg_m1, 10)"
   ]
  },
  {
   "cell_type": "code",
   "execution_count": null,
   "metadata": {},
   "outputs": [],
   "source": [
    "ax = plt.subplot(111)\n",
    "pyxsis.plot_counts(ax, heg_m1, rate=True)\n",
    "ax.set_yscale('log')"
   ]
  },
  {
   "cell_type": "code",
   "execution_count": null,
   "metadata": {},
   "outputs": [],
   "source": [
    "pyxsis.group_mincounts(heg_m1, 30)"
   ]
  },
  {
   "cell_type": "code",
   "execution_count": null,
   "metadata": {},
   "outputs": [],
   "source": [
    "ax = plt.subplot(111)\n",
    "pyxsis.plot_counts(ax, heg_m1, perbin=True)\n",
    "ax.set_yscale('log')"
   ]
  },
  {
   "cell_type": "code",
   "execution_count": null,
   "metadata": {},
   "outputs": [],
   "source": [
    "ax = plt.subplot(111)\n",
    "pyxsis.plot_counts(ax, heg_m1, perbin=False, rate=True)\n",
    "ax.set_yscale('log')"
   ]
  },
  {
   "cell_type": "code",
   "execution_count": null,
   "metadata": {},
   "outputs": [],
   "source": [
    "ax = plt.subplot(111)\n",
    "pyxsis.plot_unfold(ax, heg_m1, perbin=False, xunit='angstrom')\n",
    "ax.set_yscale('log')"
   ]
  },
  {
   "cell_type": "markdown",
   "metadata": {},
   "source": [
    "## Test background reading"
   ]
  },
  {
   "cell_type": "code",
   "execution_count": null,
   "metadata": {},
   "outputs": [],
   "source": [
    "bkg = XBkgSpectrum(from_file='../data/17392/heg_-1.pha', arf=heg_arf, rmf=heg_rmf)"
   ]
  },
  {
   "cell_type": "code",
   "execution_count": null,
   "metadata": {},
   "outputs": [],
   "source": [
    "ax = plt.subplot(111)\n",
    "pyxsis.plot_counts(ax, bkg)"
   ]
  },
  {
   "cell_type": "code",
   "execution_count": null,
   "metadata": {},
   "outputs": [],
   "source": [
    "heg_m1.assign_bkg('../data/17392/heg_-1.pha')"
   ]
  },
  {
   "cell_type": "code",
   "execution_count": null,
   "metadata": {},
   "outputs": [],
   "source": [
    "ax = plt.subplot(111)\n",
    "pyxsis.plot_counts(ax, heg_m1)"
   ]
  },
  {
   "cell_type": "code",
   "execution_count": null,
   "metadata": {},
   "outputs": [],
   "source": [
    "ax = plt.subplot(111)\n",
    "pyxsis.plot_counts(ax, heg_m1, subtract_bkg=False, label='Foreground')\n",
    "pyxsis.plot_counts(ax, heg_m1, plot_bkg=True, use_backscale=True, label='Background')\n",
    "ax.legend(loc='upper right', frameon=False)"
   ]
  },
  {
   "cell_type": "markdown",
   "metadata": {},
   "source": [
    "## Try stacking"
   ]
  },
  {
   "cell_type": "code",
   "execution_count": null,
   "metadata": {},
   "outputs": [],
   "source": [
    "heg_m1 = XBinSpectrum(from_file='../data/17392/heg_-1.pha', \n",
    "                      arf='../data/17392/heg_-1.arf', rmf='../data/17392/heg_-1.rmf')\n",
    "heg_p1 = XBinSpectrum(from_file='../data/17392/heg_1.pha', \n",
    "                      arf='../data/17392/heg_1.arf', rmf='../data/17392/heg_1.rmf')\n",
    "heg1 = pyxsis.stack_spectra([heg_m1, heg_p1])"
   ]
  },
  {
   "cell_type": "code",
   "execution_count": null,
   "metadata": {},
   "outputs": [],
   "source": [
    "NCHAN = 10\n",
    "EMIN, EMAX = 1.0 * u.keV, 8.0 * u.keV\n",
    "\n",
    "pyxsis.group_channels(heg_m1, NCHAN)\n",
    "pyxsis.group_channels(heg_p1, NCHAN)\n",
    "pyxsis.group_channels(heg1, NCHAN)\n",
    "\n",
    "heg_m1.notice_range(EMIN, EMAX)\n",
    "heg_p1.notice_range(EMIN, EMAX)\n",
    "heg1.notice_range(EMIN, EMAX)"
   ]
  },
  {
   "cell_type": "code",
   "execution_count": null,
   "metadata": {},
   "outputs": [],
   "source": [
    "ax = plt.subplot(111)\n",
    "pyxsis.plot_unfold(ax, heg_m1, xunit='keV', subtract_bkg=False, color='b', alpha=0.8)\n",
    "pyxsis.plot_unfold(ax, heg_p1, xunit='keV', subtract_bkg=False, color='r', alpha=0.8)\n",
    "pyxsis.plot_unfold(ax, heg1, xunit='keV', subtract_bkg=False, color='k', alpha=1.0)\n",
    "plt.loglog()"
   ]
  },
  {
   "cell_type": "code",
   "execution_count": null,
   "metadata": {},
   "outputs": [],
   "source": [
    "plt.plot(heg_m1.arf.e_mid, heg_m1.arf.eff_area, color='b')\n",
    "plt.plot(heg_p1.arf.e_mid, heg_p1.arf.eff_area, color='r')\n",
    "plt.plot(heg1.arf.e_mid, heg1.arf.eff_area, color='k')"
   ]
  },
  {
   "cell_type": "code",
   "execution_count": null,
   "metadata": {},
   "outputs": [],
   "source": [
    "ax = plt.subplot(111)\n",
    "pyxsis.plot_counts(ax, heg_m1, xunit='angstrom', rate=True, subtract_bkg=False, color='b', alpha=0.8)\n",
    "pyxsis.plot_counts(ax, heg_p1, xunit='angstrom', rate=True, subtract_bkg=False, color='r', alpha=0.8)\n",
    "pyxsis.plot_counts(ax, heg1, xunit='angstrom', rate=True, subtract_bkg=False, color='k', alpha=0.8)"
   ]
  },
  {
   "cell_type": "markdown",
   "metadata": {},
   "source": [
    "### Stack spectra from two different observations"
   ]
  },
  {
   "cell_type": "code",
   "execution_count": null,
   "metadata": {},
   "outputs": [],
   "source": [
    "heg_m1_1 = XBinSpectrum(from_file='../data/17392/heg_-1.pha', \n",
    "                        arf='../data/17392/heg_-1.arf', rmf='../data/17392/heg_-1.rmf')\n",
    "heg_m1_2 = XBinSpectrum(from_file='../data/17385/heg_-1.pha', \n",
    "                        arf='../data/17385/heg_-1.arf', rmf='../data/17385/heg_-1.rmf')\n",
    "heg_m1_sum = pyxsis.stack_spectra([heg_m1_1, heg_m1_2], sum_exposure=True)"
   ]
  },
  {
   "cell_type": "code",
   "execution_count": null,
   "metadata": {},
   "outputs": [],
   "source": [
    "NCHAN = 10\n",
    "EMIN, EMAX = 1.0 * u.keV, 8.0 * u.keV\n",
    "\n",
    "pyxsis.group_channels(heg_m1_1, NCHAN)\n",
    "pyxsis.group_channels(heg_m1_2, NCHAN)\n",
    "pyxsis.group_channels(heg_m1_sum, NCHAN)\n",
    "\n",
    "heg_m1_1.notice_range(EMIN, EMAX)\n",
    "heg_m1_2.notice_range(EMIN, EMAX)\n",
    "heg_m1_sum.notice_range(EMIN, EMAX)"
   ]
  },
  {
   "cell_type": "code",
   "execution_count": null,
   "metadata": {},
   "outputs": [],
   "source": [
    "ax = plt.subplot(111)\n",
    "pyxsis.plot_unfold(ax, heg_m1_1, xunit='keV', subtract_bkg=False, color='b', alpha=0.8)\n",
    "pyxsis.plot_unfold(ax, heg_m1_2, xunit='keV', subtract_bkg=False, color='r', alpha=0.8)\n",
    "pyxsis.plot_unfold(ax, heg_m1_sum, xunit='keV', subtract_bkg=False, color='k', alpha=1.0)\n",
    "plt.loglog()"
   ]
  },
  {
   "cell_type": "code",
   "execution_count": null,
   "metadata": {},
   "outputs": [],
   "source": [
    "plt.plot(heg_m1_1.arf.e_mid, heg_m1_1.arf.eff_area, color='b')\n",
    "plt.plot(heg_m1_2.arf.e_mid, heg_m1_2.arf.eff_area, color='r')\n",
    "plt.plot(heg_m1_sum.arf.e_mid, heg_m1_sum.arf.eff_area, color='k')"
   ]
  },
  {
   "cell_type": "code",
   "execution_count": null,
   "metadata": {},
   "outputs": [],
   "source": [
    "ax = plt.subplot(111)\n",
    "pyxsis.plot_counts(ax, heg_m1_1, xunit='angstrom', rate=True, subtract_bkg=False, color='b', alpha=0.8)\n",
    "pyxsis.plot_counts(ax, heg_m1_2, xunit='angstrom', rate=True, subtract_bkg=False, color='r', alpha=0.8)\n",
    "pyxsis.plot_counts(ax, heg_m1_sum, xunit='angstrom', rate=True, subtract_bkg=False, color='k', alpha=0.8)"
   ]
  },
  {
   "cell_type": "code",
   "execution_count": null,
   "metadata": {},
   "outputs": [],
   "source": [
    "print(heg_m1_1.exposure)\n",
    "print(heg_m1_2.exposure)\n",
    "print(heg_m1_sum.exposure)"
   ]
  },
  {
   "cell_type": "code",
   "execution_count": null,
   "metadata": {},
   "outputs": [],
   "source": []
  }
 ],
 "metadata": {
  "kernelspec": {
   "display_name": "pyxsis-dev",
   "language": "python",
   "name": "pyxsis-dev"
  },
  "language_info": {
   "codemirror_mode": {
    "name": "ipython",
    "version": 3
   },
   "file_extension": ".py",
   "mimetype": "text/x-python",
   "name": "python",
   "nbconvert_exporter": "python",
   "pygments_lexer": "ipython3",
   "version": "3.6.7"
  }
 },
 "nbformat": 4,
 "nbformat_minor": 2
}
