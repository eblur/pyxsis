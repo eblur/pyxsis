{
 "cells": [
  {
   "cell_type": "code",
   "execution_count": 1,
   "metadata": {
    "collapsed": false
   },
   "outputs": [],
   "source": [
    "import numpy as np\n",
    "import matplotlib.pyplot as plt\n",
    "from matplotlib import gridspec\n",
    "\n",
    "import os\n",
    "from scipy.optimize import minimize\n",
    "\n",
    "import clarsach\n",
    "import xpysis\n",
    "\n",
    "%matplotlib inline"
   ]
  },
  {
   "cell_type": "code",
   "execution_count": 2,
   "metadata": {
    "collapsed": true
   },
   "outputs": [],
   "source": [
    "DATA_DIR = os.environ['HOME'] + \"/dev/clarsach/data\"\n",
    "mrk_dir  = DATA_DIR + \"/tgcat/obs_15477_tgid_4679/\"\n",
    "mrk_file_list = [mrk_dir + order for order in ['heg_1.pha', 'heg_-1.pha']]"
   ]
  },
  {
   "cell_type": "code",
   "execution_count": 3,
   "metadata": {
    "collapsed": false
   },
   "outputs": [
    {
     "name": "stdout",
     "output_type": "stream",
     "text": [
      "Warning: ARF units and pha file units are not the same!!!\n",
      "Warning: RMF units and pha file units are not the same!!!\n",
      "Warning: ARF units and pha file units are not the same!!!\n",
      "Warning: RMF units and pha file units are not the same!!!\n"
     ]
    }
   ],
   "source": [
    "mrk421 = [xpysis.Spectrum(ff) for ff in mrk_file_list]"
   ]
  },
  {
   "cell_type": "code",
   "execution_count": 4,
   "metadata": {
    "collapsed": false
   },
   "outputs": [
    {
     "name": "stdout",
     "output_type": "stream",
     "text": [
      "Warning: ARF units and pha file units are not the same!!!\n",
      "Warning: RMF units and pha file units are not the same!!!\n"
     ]
    },
    {
     "ename": "UnboundLocalError",
     "evalue": "local variable '_stack_counts' referenced before assignment",
     "output_type": "error",
     "traceback": [
      "\u001b[0;31m---------------------------------------------------------------------------\u001b[0m",
      "\u001b[0;31mUnboundLocalError\u001b[0m                         Traceback (most recent call last)",
      "\u001b[0;32m<ipython-input-4-a87758034a15>\u001b[0m in \u001b[0;36m<module>\u001b[0;34m()\u001b[0m\n\u001b[0;32m----> 1\u001b[0;31m \u001b[0mheg_stack\u001b[0m \u001b[0;34m=\u001b[0m \u001b[0mxpysis\u001b[0m\u001b[0;34m.\u001b[0m\u001b[0mStackSpectrum\u001b[0m\u001b[0;34m(\u001b[0m\u001b[0mmrk_file_list\u001b[0m\u001b[0;34m[\u001b[0m\u001b[0;36m0\u001b[0m\u001b[0;34m]\u001b[0m\u001b[0;34m,\u001b[0m \u001b[0mmrk421\u001b[0m\u001b[0;34m)\u001b[0m\u001b[0;34m\u001b[0m\u001b[0m\n\u001b[0m",
      "\u001b[0;32m/home/lia/dev/xpysis/xpysis/stackspectrum.py\u001b[0m in \u001b[0;36m__init__\u001b[0;34m(self, file0, speclist, **kwargs)\u001b[0m\n\u001b[1;32m     17\u001b[0m \u001b[0;34m\u001b[0m\u001b[0m\n\u001b[1;32m     18\u001b[0m         \u001b[0;31m# Modify / overwrite old stuff\u001b[0m\u001b[0;34m\u001b[0m\u001b[0;34m\u001b[0m\u001b[0m\n\u001b[0;32m---> 19\u001b[0;31m         \u001b[0mself\u001b[0m\u001b[0;34m.\u001b[0m\u001b[0mcounts\u001b[0m       \u001b[0;34m=\u001b[0m \u001b[0m_stack_counts\u001b[0m\u001b[0;34m(\u001b[0m\u001b[0mspeclist\u001b[0m\u001b[0;34m)\u001b[0m\u001b[0;34m\u001b[0m\u001b[0m\n\u001b[0m\u001b[1;32m     20\u001b[0m         \u001b[0marfresp\u001b[0m\u001b[0;34m,\u001b[0m \u001b[0mfracexpo\u001b[0m\u001b[0;34m,\u001b[0m \u001b[0mexposure\u001b[0m \u001b[0;34m=\u001b[0m \u001b[0m_stack_arf\u001b[0m\u001b[0;34m(\u001b[0m\u001b[0mspeclist\u001b[0m\u001b[0;34m)\u001b[0m\u001b[0;34m\u001b[0m\u001b[0m\n\u001b[1;32m     21\u001b[0m         \u001b[0mself\u001b[0m\u001b[0;34m.\u001b[0m\u001b[0marf\u001b[0m\u001b[0;34m.\u001b[0m\u001b[0mspecresp\u001b[0m \u001b[0;34m=\u001b[0m \u001b[0marfresp\u001b[0m\u001b[0;34m\u001b[0m\u001b[0m\n",
      "\u001b[0;31mUnboundLocalError\u001b[0m: local variable '_stack_counts' referenced before assignment"
     ]
    }
   ],
   "source": [
    "heg_stack = xpysis.StackSpectrum(mrk_file_list[0], mrk421)"
   ]
  },
  {
   "cell_type": "code",
   "execution_count": null,
   "metadata": {
    "collapsed": false
   },
   "outputs": [],
   "source": [
    "fig = plt.figure(figsize=(12,4))\n",
    "\n",
    "ax0 = plt.subplot(121)\n",
    "xpysis.plot_counts(ax0, heg_stack)\n",
    "\n",
    "ax1 = plt.subplot(122)\n",
    "for s in mrk421:\n",
    "    xpysis.plot_counts(ax1, s, alpha=0.8)"
   ]
  },
  {
   "cell_type": "code",
   "execution_count": null,
   "metadata": {
    "collapsed": false
   },
   "outputs": [],
   "source": [
    "for s in mrk421:\n",
    "    print(s.arf.data[1].header['EXPOSURE'])"
   ]
  },
  {
   "cell_type": "code",
   "execution_count": null,
   "metadata": {
    "collapsed": false
   },
   "outputs": [],
   "source": [
    "print(heg_stack.exposure)"
   ]
  },
  {
   "cell_type": "code",
   "execution_count": null,
   "metadata": {
    "collapsed": true
   },
   "outputs": [],
   "source": [
    "## I'm going to group all my data just to make it easier to read\n",
    "MC = 10.0\n",
    "xpysis.group_mincounts(mrk421[0], MC)\n",
    "xpysis.group_mincounts(mrk421[1], MC)\n",
    "xpysis.group_mincounts(heg_stack, MC)"
   ]
  },
  {
   "cell_type": "code",
   "execution_count": null,
   "metadata": {
    "collapsed": false
   },
   "outputs": [],
   "source": [
    "fig = plt.figure(figsize=(12,4))\n",
    "\n",
    "ax0 = plt.subplot(121)\n",
    "xpysis.plot_unfold(ax0, heg_stack)\n",
    "ax0.set_xscale('log')\n",
    "ax0.set_yscale('log')\n",
    "\n",
    "ax1 = plt.subplot(122)\n",
    "for s in mrk421:\n",
    "    xpysis.plot_unfold(ax1, s, alpha=0.8)\n",
    "ax1.set_xscale('log')\n",
    "ax1.set_yscale('log')"
   ]
  },
  {
   "cell_type": "code",
   "execution_count": null,
   "metadata": {
    "collapsed": false
   },
   "outputs": [],
   "source": [
    "## Just trying to make sure that nothing in the mrk421 spectra list changed\n",
    "## The following calls should all return \"False\"\n",
    "print(all(heg_stack.counts == mrk421[0].counts))\n",
    "print(all(heg_stack.counts == mrk421[1].counts))\n",
    "print(all(mrk421[0].counts == mrk421[1].counts))"
   ]
  },
  {
   "cell_type": "code",
   "execution_count": null,
   "metadata": {
    "collapsed": true
   },
   "outputs": [],
   "source": []
  }
 ],
 "metadata": {
  "kernelspec": {
   "display_name": "Python 2",
   "language": "python",
   "name": "python2"
  },
  "language_info": {
   "codemirror_mode": {
    "name": "ipython",
    "version": 2
   },
   "file_extension": ".py",
   "mimetype": "text/x-python",
   "name": "python",
   "nbconvert_exporter": "python",
   "pygments_lexer": "ipython2",
   "version": "2.7.13"
  }
 },
 "nbformat": 4,
 "nbformat_minor": 2
}
