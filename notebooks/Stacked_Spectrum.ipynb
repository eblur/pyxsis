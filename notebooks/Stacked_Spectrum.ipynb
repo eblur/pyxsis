{
 "cells": [
  {
   "cell_type": "code",
   "execution_count": null,
   "metadata": {},
   "outputs": [],
   "source": [
    "import numpy as np\n",
    "import matplotlib.pyplot as plt\n",
    "from matplotlib import gridspec\n",
    "\n",
    "import os\n",
    "from scipy.optimize import minimize\n",
    "\n",
    "import pyxsis\n",
    "from pyxsis.io import load_chandra_hetg\n",
    "\n",
    "%matplotlib inline"
   ]
  },
  {
   "cell_type": "code",
   "execution_count": null,
   "metadata": {},
   "outputs": [],
   "source": [
    "DATA_DIR = os.environ['HOME'] + \"/dev/pyxsis/tests/data\"\n",
    "mrk_dir  = DATA_DIR + \"/17385/\"\n",
    "mrk_file_list = [mrk_dir + order for order in ['heg_1.pha', 'heg_-1.pha']]"
   ]
  },
  {
   "cell_type": "code",
   "execution_count": null,
   "metadata": {},
   "outputs": [],
   "source": [
    "mrk421 = [load_chandra_hetg(ff) for ff in mrk_file_list]"
   ]
  },
  {
   "cell_type": "code",
   "execution_count": null,
   "metadata": {},
   "outputs": [],
   "source": [
    "heg_stack = pyxsis.stack_spectra(mrk421)"
   ]
  },
  {
   "cell_type": "code",
   "execution_count": null,
   "metadata": {},
   "outputs": [],
   "source": [
    "fig = plt.figure(figsize=(12,4))\n",
    "\n",
    "ax0 = plt.subplot(121)\n",
    "pyxsis.plot_counts(ax0, heg_stack)\n",
    "\n",
    "ax1 = plt.subplot(122)\n",
    "for s in mrk421:\n",
    "    pyxsis.plot_counts(ax1, s, alpha=0.8)"
   ]
  },
  {
   "cell_type": "code",
   "execution_count": null,
   "metadata": {},
   "outputs": [],
   "source": [
    "for s in mrk421:\n",
    "    print(s.exposure, s.arf.exposure)"
   ]
  },
  {
   "cell_type": "code",
   "execution_count": null,
   "metadata": {},
   "outputs": [],
   "source": [
    "print(heg_stack.exposure)"
   ]
  },
  {
   "cell_type": "code",
   "execution_count": null,
   "metadata": {},
   "outputs": [],
   "source": [
    "## I'm going to group all my data just to make it easier to read\n",
    "MC = 10.0\n",
    "pyxsis.group_mincounts(mrk421[0], MC)\n",
    "pyxsis.group_mincounts(mrk421[1], MC)\n",
    "pyxsis.group_mincounts(heg_stack, MC)"
   ]
  },
  {
   "cell_type": "code",
   "execution_count": null,
   "metadata": {},
   "outputs": [],
   "source": [
    "fig = plt.figure(figsize=(12,4))\n",
    "\n",
    "ax0 = plt.subplot(121)\n",
    "pyxsis.plot_unfold(ax0, heg_stack)\n",
    "ax0.set_xscale('log')\n",
    "ax0.set_yscale('log')\n",
    "\n",
    "ax1 = plt.subplot(122)\n",
    "for s in mrk421:\n",
    "    pyxsis.plot_unfold(ax1, s, alpha=0.8)\n",
    "ax1.set_xscale('log')\n",
    "ax1.set_yscale('log')"
   ]
  },
  {
   "cell_type": "code",
   "execution_count": null,
   "metadata": {},
   "outputs": [],
   "source": [
    "## Just trying to make sure that nothing in the mrk421 spectra list changed\n",
    "## The following calls should all return \"False\"\n",
    "print(all(heg_stack.counts == mrk421[0].counts))\n",
    "print(all(heg_stack.counts == mrk421[1].counts))\n",
    "print(all(mrk421[0].counts == mrk421[1].counts))"
   ]
  },
  {
   "cell_type": "code",
   "execution_count": null,
   "metadata": {},
   "outputs": [],
   "source": []
  }
 ],
 "metadata": {
  "kernelspec": {
   "display_name": "pyxsis-dev",
   "language": "python",
   "name": "pyxsis-dev"
  },
  "language_info": {
   "codemirror_mode": {
    "name": "ipython",
    "version": 3
   },
   "file_extension": ".py",
   "mimetype": "text/x-python",
   "name": "python",
   "nbconvert_exporter": "python",
   "pygments_lexer": "ipython3",
   "version": "3.6.7"
  }
 },
 "nbformat": 4,
 "nbformat_minor": 2
}
