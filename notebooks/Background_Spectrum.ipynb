{
 "cells": [
  {
   "cell_type": "code",
   "execution_count": null,
   "metadata": {},
   "outputs": [],
   "source": [
    "import numpy as np\n",
    "import matplotlib.pyplot as plt\n",
    "from matplotlib import gridspec\n",
    "\n",
    "import os\n",
    "from scipy.optimize import minimize\n",
    "\n",
    "import astropy.units as u\n",
    "\n",
    "import pyxsis\n",
    "from pyxsis.io import load_chandra_hetg\n",
    "\n",
    "%matplotlib inline"
   ]
  },
  {
   "cell_type": "code",
   "execution_count": null,
   "metadata": {},
   "outputs": [],
   "source": [
    "UNIT = u.keV"
   ]
  },
  {
   "cell_type": "code",
   "execution_count": null,
   "metadata": {},
   "outputs": [],
   "source": [
    "DATA_DIR = os.environ['HOME'] + \"/dev/pyxsis/tests/data\"\n",
    "mrk_dir  = DATA_DIR + \"/17385/\"\n",
    "mrk_heg1_file = mrk_dir + \"heg_1.pha\""
   ]
  },
  {
   "cell_type": "code",
   "execution_count": null,
   "metadata": {},
   "outputs": [],
   "source": [
    "mrk421 = load_chandra_hetg(mrk_heg1_file)"
   ]
  },
  {
   "cell_type": "code",
   "execution_count": null,
   "metadata": {},
   "outputs": [],
   "source": [
    "mrk421_bkg = pyxsis.XBkgSpectrum.load_HETG(mrk_heg1_file)"
   ]
  },
  {
   "cell_type": "markdown",
   "metadata": {},
   "source": [
    "**Test plotting before assigning background**"
   ]
  },
  {
   "cell_type": "code",
   "execution_count": null,
   "metadata": {},
   "outputs": [],
   "source": [
    "ax = plt.subplot(111)\n",
    "pyxsis.plot_counts(ax, mrk421, xunit=UNIT)"
   ]
  },
  {
   "cell_type": "markdown",
   "metadata": {},
   "source": [
    "**Test plotting after assigning background**"
   ]
  },
  {
   "cell_type": "code",
   "execution_count": null,
   "metadata": {},
   "outputs": [],
   "source": [
    "mrk421.assign_bkg(mrk421_bkg)"
   ]
  },
  {
   "cell_type": "code",
   "execution_count": null,
   "metadata": {},
   "outputs": [],
   "source": [
    "ax = plt.subplot(111)\n",
    "pyxsis.plot_counts(ax, mrk421, xunit=UNIT)\n",
    "pyxsis.plot_counts(ax, mrk421, subtract_bkg=False, alpha=0.8, xunit=UNIT)\n",
    "pyxsis.plot_counts(ax, mrk421, subtract_bkg=False, use_backscale=False, alpha=0.8, xunit=UNIT)\n",
    "\n",
    "plt.semilogy()"
   ]
  },
  {
   "cell_type": "code",
   "execution_count": null,
   "metadata": {},
   "outputs": [],
   "source": [
    "lo, hi, cts0, cts_err0 = mrk421.binned_counts(subtract_bkg=False)\n",
    "lo, hi, cts1, cts_err1 = mrk421.binned_counts(subtract_bkg=True)\n",
    "lo, hi, cts2, cts_err2 = mrk421.binned_counts(subtract_bkg=True, use_backscale=False)\n",
    "\n",
    "print(any(cts0 != cts1))\n",
    "print(any(cts1 != cts2))"
   ]
  },
  {
   "cell_type": "code",
   "execution_count": null,
   "metadata": {},
   "outputs": [],
   "source": [
    "mid = 0.5 * (lo + hi)\n",
    "plt.plot(mid, cts0-cts2, label='Difference without backscal')\n",
    "plt.plot(mid, cts0-cts1, label='Difference with backscal')\n",
    "plt.semilogy()\n",
    "plt.legend(loc='upper right')"
   ]
  },
  {
   "cell_type": "code",
   "execution_count": null,
   "metadata": {},
   "outputs": [],
   "source": [
    "plt.plot(mrk421.bkg.spectral_axis, mrk421.bkg.counts, label='Without backscal')\n",
    "plt.plot(mrk421.bkg.spectral_axis, mrk421.bkg.counts * mrk421.bkg.backscale, label='With backscale')\n",
    "plt.semilogy()\n",
    "plt.legend(loc='upper right')"
   ]
  },
  {
   "cell_type": "markdown",
   "metadata": {},
   "source": [
    "## Test background with binning"
   ]
  },
  {
   "cell_type": "code",
   "execution_count": null,
   "metadata": {},
   "outputs": [],
   "source": [
    "pyxsis.group_mincounts(mrk421, 10)"
   ]
  },
  {
   "cell_type": "code",
   "execution_count": null,
   "metadata": {},
   "outputs": [],
   "source": [
    "ax = plt.subplot(111)\n",
    "pyxsis.plot_counts(ax, mrk421, subtract_bkg=True, xunit=UNIT)"
   ]
  },
  {
   "cell_type": "code",
   "execution_count": null,
   "metadata": {},
   "outputs": [],
   "source": [
    "hi"
   ]
  },
  {
   "cell_type": "code",
   "execution_count": null,
   "metadata": {},
   "outputs": [],
   "source": [
    "lo, hi, bkg_cts, bkg_cts_err = mrk421.bkg.binned_counts(use_backscale=False)\n",
    "lmid = 0.5 * (lo + hi)\n",
    "plt.errorbar(lmid.value, bkg_cts.value, yerr=bkg_cts_err.value, ls='', color='0.5')\n",
    "plt.step(lo, bkg_cts, where='post')"
   ]
  },
  {
   "cell_type": "code",
   "execution_count": null,
   "metadata": {},
   "outputs": [],
   "source": [
    "lo, hi, bkg_cts, bkg_cts_err = mrk421.bkg.binned_counts(use_backscale=True)\n",
    "lmid = 0.5 * (lo + hi)\n",
    "plt.errorbar(lmid.value, bkg_cts.value, yerr=bkg_cts_err.value, ls='', color='0.5')\n",
    "plt.step(lo, bkg_cts, where='post')"
   ]
  },
  {
   "cell_type": "markdown",
   "metadata": {},
   "source": [
    "** Test flux plotting **"
   ]
  },
  {
   "cell_type": "code",
   "execution_count": null,
   "metadata": {},
   "outputs": [],
   "source": [
    "ax = plt.subplot(111)\n",
    "pyxsis.plot_unfold(ax, mrk421, xunit=UNIT)\n",
    "plt.loglog()"
   ]
  },
  {
   "cell_type": "code",
   "execution_count": null,
   "metadata": {},
   "outputs": [],
   "source": []
  }
 ],
 "metadata": {
  "kernelspec": {
   "display_name": "pyxsis-dev",
   "language": "python",
   "name": "pyxsis-dev"
  },
  "language_info": {
   "codemirror_mode": {
    "name": "ipython",
    "version": 3
   },
   "file_extension": ".py",
   "mimetype": "text/x-python",
   "name": "python",
   "nbconvert_exporter": "python",
   "pygments_lexer": "ipython3",
   "version": "3.7.1"
  }
 },
 "nbformat": 4,
 "nbformat_minor": 2
}
