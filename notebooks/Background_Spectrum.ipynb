{
 "cells": [
  {
   "cell_type": "code",
   "execution_count": null,
   "metadata": {},
   "outputs": [],
   "source": [
    "import numpy as np\n",
    "import matplotlib.pyplot as plt\n",
    "from matplotlib import gridspec\n",
    "\n",
    "import os\n",
    "from scipy.optimize import minimize\n",
    "\n",
    "import clarsach\n",
    "import pyxsis\n",
    "\n",
    "%matplotlib inline"
   ]
  },
  {
   "cell_type": "code",
   "execution_count": null,
   "metadata": {},
   "outputs": [],
   "source": [
    "UNIT = 'keV'"
   ]
  },
  {
   "cell_type": "code",
   "execution_count": null,
   "metadata": {},
   "outputs": [],
   "source": [
    "DATA_DIR = os.environ['HOME'] + \"/dev/clarsach/data\"\n",
    "mrk_dir  = DATA_DIR + \"/tgcat/obs_15477_tgid_4679/\"\n",
    "mrk_heg1_file = mrk_dir + \"heg_1.pha\""
   ]
  },
  {
   "cell_type": "code",
   "execution_count": null,
   "metadata": {},
   "outputs": [],
   "source": [
    "mrk421 = pyxsis.Spectrum(mrk_heg1_file, telescope='HETG')"
   ]
  },
  {
   "cell_type": "code",
   "execution_count": null,
   "metadata": {},
   "outputs": [],
   "source": [
    "mrk421_bkg = pyxsis.BkgSpectrum(mrk_heg1_file)"
   ]
  },
  {
   "cell_type": "markdown",
   "metadata": {},
   "source": [
    "**Test plotting before assigning background**"
   ]
  },
  {
   "cell_type": "code",
   "execution_count": null,
   "metadata": {},
   "outputs": [],
   "source": [
    "ax = plt.subplot(111)\n",
    "pyxsis.plot_counts(ax, mrk421, xunit=UNIT)"
   ]
  },
  {
   "cell_type": "markdown",
   "metadata": {},
   "source": [
    "**Test plotting after assigning background**"
   ]
  },
  {
   "cell_type": "code",
   "execution_count": null,
   "metadata": {},
   "outputs": [],
   "source": [
    "mrk421.assign_bkg(mrk421_bkg)"
   ]
  },
  {
   "cell_type": "code",
   "execution_count": null,
   "metadata": {},
   "outputs": [],
   "source": [
    "ax = plt.subplot(111)\n",
    "pyxsis.plot_counts(ax, mrk421, xunit=UNIT)\n",
    "pyxsis.plot_counts(ax, mrk421, bkgsub=False, alpha=0.8, xunit=UNIT)\n",
    "pyxsis.plot_counts(ax, mrk421, bkgsub=False, usebackscal=False, alpha=0.8, xunit=UNIT)\n",
    "\n",
    "plt.semilogy()"
   ]
  },
  {
   "cell_type": "code",
   "execution_count": null,
   "metadata": {},
   "outputs": [],
   "source": [
    "lo, hi, cts0, cts_err0 = mrk421.bin_counts(bkgsub=False)\n",
    "lo, hi, cts1, cts_err1 = mrk421.bin_counts(bkgsub=True)\n",
    "lo, hi, cts2, cts_err2 = mrk421.bin_counts(bkgsub=True, usebackscal=False)\n",
    "\n",
    "print(any(cts0 != cts1))\n",
    "print(any(cts1 != cts2))"
   ]
  },
  {
   "cell_type": "code",
   "execution_count": null,
   "metadata": {},
   "outputs": [],
   "source": [
    "mid = 0.5 * (lo + hi)\n",
    "plt.plot(mid, cts0-cts2, label='Difference without backscal')\n",
    "plt.plot(mid, cts0-cts1, label='Difference with backscal')\n",
    "plt.semilogy()\n",
    "plt.legend(loc='upper right')"
   ]
  },
  {
   "cell_type": "code",
   "execution_count": null,
   "metadata": {},
   "outputs": [],
   "source": [
    "plt.plot(mrk421.bkg.bin_mid, mrk421.bkg.counts, label='Without backscal')\n",
    "plt.plot(mrk421.bkg.bin_mid, mrk421.bkg.counts * mrk421.bkg.backscal, label='With backscal')\n",
    "plt.semilogy()\n",
    "plt.legend(loc='upper right')"
   ]
  },
  {
   "cell_type": "markdown",
   "metadata": {},
   "source": [
    "## Test background with binning"
   ]
  },
  {
   "cell_type": "code",
   "execution_count": null,
   "metadata": {},
   "outputs": [],
   "source": [
    "pyxsis.group_mincounts(mrk421, 10)"
   ]
  },
  {
   "cell_type": "code",
   "execution_count": null,
   "metadata": {},
   "outputs": [],
   "source": [
    "ax = plt.subplot(111)\n",
    "pyxsis.plot_counts(ax, mrk421, bkgsub=True, xunit=UNIT)"
   ]
  },
  {
   "cell_type": "code",
   "execution_count": null,
   "metadata": {},
   "outputs": [],
   "source": [
    "lo, hi, bkg_cts, bkg_cts_err = mrk421.bin_bkg(usebackscal=False)\n",
    "plt.errorbar(0.5*(lo+hi), bkg_cts, yerr=bkg_cts_err, ls='', color='0.5')\n",
    "plt.step(lo, bkg_cts, where='post')"
   ]
  },
  {
   "cell_type": "code",
   "execution_count": null,
   "metadata": {},
   "outputs": [],
   "source": [
    "lo, hi, bkg_cts, bkg_cts_err = mrk421.bin_bkg(usebackscal=True)\n",
    "plt.errorbar(0.5*(lo+hi), bkg_cts, yerr=bkg_cts_err, ls='', color='0.5')\n",
    "plt.step(lo, bkg_cts, where='post')"
   ]
  },
  {
   "cell_type": "markdown",
   "metadata": {},
   "source": [
    "** Test flux plotting **"
   ]
  },
  {
   "cell_type": "code",
   "execution_count": null,
   "metadata": {},
   "outputs": [],
   "source": [
    "ax = plt.subplot(111)\n",
    "pyxsis.plot_unfold(ax, mrk421, xunit=UNIT)\n",
    "plt.loglog()"
   ]
  },
  {
   "cell_type": "code",
   "execution_count": null,
   "metadata": {},
   "outputs": [],
   "source": []
  }
 ],
 "metadata": {
  "kernelspec": {
   "display_name": "Python [conda env:xpysis-dev]",
   "language": "python",
   "name": "conda-env-xpysis-dev-py"
  },
  "language_info": {
   "codemirror_mode": {
    "name": "ipython",
    "version": 3
   },
   "file_extension": ".py",
   "mimetype": "text/x-python",
   "name": "python",
   "nbconvert_exporter": "python",
   "pygments_lexer": "ipython3",
   "version": "3.6.5"
  }
 },
 "nbformat": 4,
 "nbformat_minor": 2
}
