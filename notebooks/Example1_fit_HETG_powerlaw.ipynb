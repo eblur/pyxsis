{
 "cells": [
  {
   "cell_type": "markdown",
   "metadata": {},
   "source": [
    "# Fit *Chandra* HETG data with a powerlaw\n",
    "\n",
    "This notebook gives an example of fitting *Chandra* HETG data with a simple power law model, using real spectrum files downloaded from *tgcat*.  We use the methods outlined in `ParTest_ProofOfConcept.ipynb`\n",
    "\n",
    "We will fit the spectrum of the well-known blazar Mrk 421, which is frequently used as a *Chandra* calibration source.  This tutorial uses the data from ObsId 15477 obtained from tgcat (http://tgcat.mit.edu/)\n",
    "\n",
    "Once you have downloaded the data files, unpack and unzip all the files in your directory of choice (`DATA_DIR`).  Don't forget to **modify the `DATA_DIR` string below** before running this tutorial."
   ]
  },
  {
   "cell_type": "code",
   "execution_count": null,
   "metadata": {
    "collapsed": false
   },
   "outputs": [],
   "source": [
    "import numpy as np\n",
    "import matplotlib.pyplot as plt\n",
    "from matplotlib import gridspec\n",
    "\n",
    "import os\n",
    "import scipy.stats\n",
    "from scipy.special import gammaln as scipy_gammaln\n",
    "from scipy.optimize import minimize\n",
    "\n",
    "import clarsach\n",
    "import xpysis\n",
    "\n",
    "%matplotlib inline"
   ]
  },
  {
   "cell_type": "code",
   "execution_count": null,
   "metadata": {
    "collapsed": true
   },
   "outputs": [],
   "source": [
    "DATA_DIR = os.environ['HOME'] + \"/dev/clarsach/data\"\n",
    "mrk_dir  = DATA_DIR + \"/tgcat/obs_15477_tgid_4679/\"\n",
    "mrk_heg1_file = mrk_dir + \"heg_1.pha\""
   ]
  },
  {
   "cell_type": "markdown",
   "metadata": {},
   "source": [
    "## Set up model and statistics\n",
    "\n",
    "Using Poisson statistics, the probability of getting a certain number of counts ($x$) given an expected model value of $m$ is:\n",
    "\n",
    "$$ P (x | m) = \\frac{m^x e^{-m}}{x!} $$\n",
    "\n",
    "The log likelihood function is therefore\n",
    "\n",
    "$$ \\ln L = \\ln \\Pi_i P(x_i | m_i) = \\Sigma_i \\left[ x_i \\ln m_i - m_i - \\ln (x_i !) \\right] = -K + \\Sigma_i (x_i \\ln m_i - m_i) $$\n",
    "\n",
    "In this case, $K$ is a constant and can be ignored.\n",
    "\n",
    "In order to *maximize* the likelihood, we want to maximize the value\n",
    "\n",
    "$$ C' = \\Sigma_i (x_i \\ln m_i - m_i) $$\n",
    "\n",
    "This is related to the well-known Cash statistic:\n",
    "\n",
    "$$ C \\equiv -2 \\ln L = 2 \\Sigma_i (m_i - x_i \\ln m_i)  $$\n",
    "\n",
    "so that $C' = -C / 2$"
   ]
  },
  {
   "cell_type": "code",
   "execution_count": null,
   "metadata": {
    "collapsed": false
   },
   "outputs": [],
   "source": [
    "class PowerlawPoissonFit(xpysis.Spectrum):\n",
    "    def __init__(self, filename, **kwargs):\n",
    "        xpysis.Spectrum.__init__(self, filename, **kwargs)\n",
    "        self.model  = clarsach.Powerlaw()\n",
    "    \n",
    "    def set_model_pars(self, pars):\n",
    "        lognorm, pi = pars\n",
    "        self.model.norm = np.power(10.0, lognorm)\n",
    "        self.model.phoindex = pi\n",
    "        \n",
    "    # Model counts histogram\n",
    "    def model_chist(self, pars):\n",
    "        elo, ehi, cts, cts_err = self.bin_counts(unit='keV')\n",
    "        emid = 0.5 * (elo + ehi)\n",
    "        self.set_model_pars(pars)\n",
    "        mflux  = self.model.calculate(elo, ehi)\n",
    "        result = self.apply_resp(mflux)\n",
    "        return result\n",
    "    \n",
    "    def loglikelihood(self, pars):\n",
    "        ymodel = self.model_chist(pars)\n",
    "        ydata  = self.counts\n",
    "        # compute the log-likelihood\n",
    "        # How do I deal with zero values in my model? -- Ask Daniela\n",
    "        cvals   = np.zeros(len(ymodel))\n",
    "        ii      = (ymodel != 0.0)\n",
    "        cvals[ii] = ydata[ii] * np.log(ymodel[ii]) - ymodel[ii]\n",
    "        loglike = np.sum(cvals)\n",
    "        \n",
    "        if np.isfinite(loglike):\n",
    "            return loglike\n",
    "        else:\n",
    "            return -np.inf\n",
    "        \n",
    "        return result\n",
    "\n",
    "    def cash(self, pars):\n",
    "        result = self.loglikelihood(pars)\n",
    "        return -result/2.0\n",
    "    \n",
    "    ## Get residuals on the best fit\n",
    "    def mod_residuals(self, pars):\n",
    "        mcounts = self.model_chist(pars)\n",
    "        cts_err = np.sqrt(self.counts)\n",
    "        result  = np.zeros(len(self.counts))\n",
    "        ii      = (cts_err != 0.0)\n",
    "        result[ii] = (mcounts[ii] - self.counts[ii])/cts_err[ii]\n",
    "        return result\n"
   ]
  },
  {
   "cell_type": "code",
   "execution_count": null,
   "metadata": {
    "collapsed": false
   },
   "outputs": [],
   "source": [
    "mrk421 = PowerlawPoissonFit(mrk_heg1_file, telescope='HETG')"
   ]
  },
  {
   "cell_type": "code",
   "execution_count": null,
   "metadata": {
    "collapsed": false
   },
   "outputs": [],
   "source": [
    "## The bin units are automatically changed to keV in xpysis.Spectrum objects to avoid confusion\n",
    "print(mrk421.bin_unit)"
   ]
  },
  {
   "cell_type": "markdown",
   "metadata": {},
   "source": [
    "**Plot the data so we know it loaded okay**\n",
    "\n",
    "Try switching the `xunit` keyword between 'keV' and 'angs'"
   ]
  },
  {
   "cell_type": "code",
   "execution_count": null,
   "metadata": {
    "collapsed": false
   },
   "outputs": [],
   "source": [
    "ax = plt.subplot(111)\n",
    "xpysis.plot_counts(ax, mrk421, xunit='angs')"
   ]
  },
  {
   "cell_type": "markdown",
   "metadata": {},
   "source": [
    "**Do a rough estimate of the flux spectrum by \"unfolding\" the counts histogram with the telescope response**"
   ]
  },
  {
   "cell_type": "code",
   "execution_count": null,
   "metadata": {
    "collapsed": false
   },
   "outputs": [],
   "source": [
    "ax = plt.subplot(111)\n",
    "xpysis.plot_unfold(ax, mrk421, xunit='keV')\n",
    "plt.loglog()\n",
    "plt.xlim(0.5,8.0)"
   ]
  },
  {
   "cell_type": "markdown",
   "metadata": {},
   "source": [
    "## Start fitting"
   ]
  },
  {
   "cell_type": "code",
   "execution_count": null,
   "metadata": {
    "collapsed": false
   },
   "outputs": [],
   "source": [
    "par0 = [-0.5, 2.5]  # Some starting parameters\n",
    "mod0 = mrk421.model_chist(par0)\n",
    "\n",
    "ax = plt.subplot(111)\n",
    "xpysis.plot_counts(ax, mrk421, xunit='keV', label='raw data')\n",
    "plt.plot(mrk421.bin_mid, mod0, 'r', label='powerlaw0')\n",
    "plt.legend(loc='upper right', frameon=False)"
   ]
  },
  {
   "cell_type": "code",
   "execution_count": null,
   "metadata": {
    "collapsed": false
   },
   "outputs": [],
   "source": [
    "mrk421.loglikelihood(par0)"
   ]
  },
  {
   "cell_type": "code",
   "execution_count": null,
   "metadata": {
    "collapsed": false
   },
   "outputs": [],
   "source": [
    "mrk421.cash(par0)"
   ]
  },
  {
   "cell_type": "markdown",
   "metadata": {},
   "source": [
    "Now run scipy.optimize.minimize on the Cash statistic"
   ]
  },
  {
   "cell_type": "code",
   "execution_count": null,
   "metadata": {
    "collapsed": false
   },
   "outputs": [],
   "source": [
    "res = scipy.optimize.minimize(mrk421.cash, par0)"
   ]
  },
  {
   "cell_type": "code",
   "execution_count": null,
   "metadata": {
    "collapsed": false
   },
   "outputs": [],
   "source": [
    "model_out = mrk421.model_chist(res.x)\n",
    "\n",
    "ax = plt.subplot(111)\n",
    "plt.plot(mrk421.bin_mid, mod0, 'r', label='powerlaw0')\n",
    "plt.legend(loc='upper right', frameon=False)"
   ]
  },
  {
   "cell_type": "code",
   "execution_count": null,
   "metadata": {
    "collapsed": false
   },
   "outputs": [],
   "source": [
    "res_out = mrk421.mod_residuals(res.x)\n",
    "\n",
    "fig = plt.figure(figsize=(6,6))\n",
    "gs  = gridspec.GridSpec(2, 1, height_ratios=[2,1], hspace=0.0)\n",
    "ax1 = plt.subplot(gs[0])\n",
    "ax2 = plt.subplot(gs[1])\n",
    "\n",
    "xpysis.plot_counts(ax1, mrk421, xunit='keV', label='Raw Data')\n",
    "ax1.plot(mrk421.bin_mid, model_out, 'r', label='PL model')\n",
    "ax1.legend(loc='upper right', frameon=False)\n",
    "\n",
    "ax2.errorbar(mrk421.bin_mid, res_out, \n",
    "             xerr=0.5*(mrk421.bin_hi - mrk421.bin_lo), yerr=1.0,\n",
    "             ls='', color='k', capsize=0, alpha=0.5)\n",
    "ax2.axhline(0.0, color='k', ls=':')\n",
    "ax2.set_ylabel(r'$\\chi$')\n",
    "ax2.set_xlabel('Energy (keV)')\n",
    "\n",
    "ax1.xaxis.set_ticklabels('')\n",
    "ax1.set_xlim(0.5,8.0)\n",
    "ax2.set_xlim(0.5,8.0)"
   ]
  },
  {
   "cell_type": "code",
   "execution_count": null,
   "metadata": {
    "collapsed": false
   },
   "outputs": [],
   "source": [
    "mflux_out = mrk421.model.calculate(mrk421.bin_lo, mrk421.bin_hi) / (mrk421.bin_hi - mrk421.bin_lo)\n",
    "\n",
    "ax = plt.subplot(111)\n",
    "xpysis.plot_unfold(ax, mrk421, xunit='keV')\n",
    "xpysis.plot_model_flux(ax, mrk421, mrk421.model, xunit='keV', color='r')\n",
    "plt.loglog()"
   ]
  },
  {
   "cell_type": "code",
   "execution_count": null,
   "metadata": {
    "collapsed": true
   },
   "outputs": [],
   "source": []
  }
 ],
 "metadata": {
  "kernelspec": {
   "display_name": "Python 2",
   "language": "python",
   "name": "python2"
  },
  "language_info": {
   "codemirror_mode": {
    "name": "ipython",
    "version": 2
   },
   "file_extension": ".py",
   "mimetype": "text/x-python",
   "name": "python",
   "nbconvert_exporter": "python",
   "pygments_lexer": "ipython2",
   "version": "2.7.13"
  }
 },
 "nbformat": 4,
 "nbformat_minor": 0
}
